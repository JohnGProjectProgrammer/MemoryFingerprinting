{
 "cells": [
  {
   "cell_type": "code",
   "execution_count": 4,
   "id": "3b965628",
   "metadata": {},
   "outputs": [],
   "source": [
    "import numpy as np\n",
    "import helper_functions as functions\n",
    "import json\n",
    "\n",
    "import pandas as pd\n",
    "import matplotlib.pyplot as plt\n",
    "%matplotlib inline\n",
    "import seaborn as sns\n",
    "pd.set_option('display.max_rows', None)\n",
    "pd.set_option('display.max_columns', None)\n",
    "\n",
    "from collections import Counter"
   ]
  },
  {
   "cell_type": "code",
   "execution_count": null,
   "id": "2c71490b",
   "metadata": {},
   "outputs": [],
   "source": []
  },
  {
   "cell_type": "code",
   "execution_count": null,
   "id": "b5f217e6",
   "metadata": {},
   "outputs": [],
   "source": []
  },
  {
   "cell_type": "markdown",
   "id": "c99d53e2",
   "metadata": {},
   "source": [
    "### working on words in each trial"
   ]
  },
  {
   "cell_type": "code",
   "execution_count": 22,
   "id": "94af741b",
   "metadata": {},
   "outputs": [],
   "source": [
    "with open('young_subjects_full_study_json_list_march23.json', \"r\") as read_file:\n",
    "    data_json_list = json.load(read_file)"
   ]
  },
  {
   "cell_type": "code",
   "execution_count": 23,
   "id": "4c36cc97",
   "metadata": {},
   "outputs": [
    {
     "data": {
      "text/plain": [
       "17335"
      ]
     },
     "execution_count": 23,
     "metadata": {},
     "output_type": "execute_result"
    }
   ],
   "source": [
    "len(data_json_list)"
   ]
  },
  {
   "cell_type": "code",
   "execution_count": 24,
   "id": "77936e70",
   "metadata": {},
   "outputs": [],
   "source": [
    "all_words = []\n",
    "\n",
    "for r in data_json_list:\n",
    "    all_words += r[\"actualWords_studyPhase\"]"
   ]
  },
  {
   "cell_type": "code",
   "execution_count": 25,
   "id": "cc93fd3e",
   "metadata": {},
   "outputs": [
    {
     "data": {
      "text/plain": [
       "277360"
      ]
     },
     "execution_count": 25,
     "metadata": {},
     "output_type": "execute_result"
    }
   ],
   "source": [
    "len(all_words)"
   ]
  },
  {
   "cell_type": "code",
   "execution_count": 26,
   "id": "fdf523ff",
   "metadata": {},
   "outputs": [],
   "source": [
    "ct = Counter(all_words)"
   ]
  },
  {
   "cell_type": "code",
   "execution_count": 27,
   "id": "779fa81c",
   "metadata": {},
   "outputs": [
    {
     "data": {
      "text/plain": [
       "[('MARINE', 349),\n",
       " ('OTTER', 348),\n",
       " ('BEAVER', 342),\n",
       " ('DIVER', 340),\n",
       " ('ANIMAL', 339),\n",
       " ('CRAB', 335),\n",
       " ('CREATURE', 325),\n",
       " ('FISH', 320),\n",
       " ('SWIMMER', 318),\n",
       " ('SEAL', 317)]"
      ]
     },
     "execution_count": 27,
     "metadata": {},
     "output_type": "execute_result"
    }
   ],
   "source": [
    "x=ct.most_common()[:10]\n",
    "x"
   ]
  },
  {
   "cell_type": "code",
   "execution_count": 32,
   "id": "260cc5f4",
   "metadata": {},
   "outputs": [
    {
     "data": {
      "text/html": [
       "<div>\n",
       "<style scoped>\n",
       "    .dataframe tbody tr th:only-of-type {\n",
       "        vertical-align: middle;\n",
       "    }\n",
       "\n",
       "    .dataframe tbody tr th {\n",
       "        vertical-align: top;\n",
       "    }\n",
       "\n",
       "    .dataframe thead th {\n",
       "        text-align: right;\n",
       "    }\n",
       "</style>\n",
       "<table border=\"1\" class=\"dataframe\">\n",
       "  <thead>\n",
       "    <tr style=\"text-align: right;\">\n",
       "      <th></th>\n",
       "      <th>word</th>\n",
       "      <th>occurrence in trials</th>\n",
       "    </tr>\n",
       "  </thead>\n",
       "  <tbody>\n",
       "    <tr>\n",
       "      <th>0</th>\n",
       "      <td>MARINE</td>\n",
       "      <td>349</td>\n",
       "    </tr>\n",
       "    <tr>\n",
       "      <th>1</th>\n",
       "      <td>OTTER</td>\n",
       "      <td>348</td>\n",
       "    </tr>\n",
       "    <tr>\n",
       "      <th>2</th>\n",
       "      <td>BEAVER</td>\n",
       "      <td>342</td>\n",
       "    </tr>\n",
       "    <tr>\n",
       "      <th>3</th>\n",
       "      <td>DIVER</td>\n",
       "      <td>340</td>\n",
       "    </tr>\n",
       "    <tr>\n",
       "      <th>4</th>\n",
       "      <td>ANIMAL</td>\n",
       "      <td>339</td>\n",
       "    </tr>\n",
       "    <tr>\n",
       "      <th>5</th>\n",
       "      <td>CRAB</td>\n",
       "      <td>335</td>\n",
       "    </tr>\n",
       "    <tr>\n",
       "      <th>6</th>\n",
       "      <td>CREATURE</td>\n",
       "      <td>325</td>\n",
       "    </tr>\n",
       "    <tr>\n",
       "      <th>7</th>\n",
       "      <td>FISH</td>\n",
       "      <td>320</td>\n",
       "    </tr>\n",
       "    <tr>\n",
       "      <th>8</th>\n",
       "      <td>SWIMMER</td>\n",
       "      <td>318</td>\n",
       "    </tr>\n",
       "    <tr>\n",
       "      <th>9</th>\n",
       "      <td>SEAL</td>\n",
       "      <td>317</td>\n",
       "    </tr>\n",
       "  </tbody>\n",
       "</table>\n",
       "</div>"
      ],
      "text/plain": [
       "       word  occurrence in trials\n",
       "0    MARINE                   349\n",
       "1     OTTER                   348\n",
       "2    BEAVER                   342\n",
       "3     DIVER                   340\n",
       "4    ANIMAL                   339\n",
       "5      CRAB                   335\n",
       "6  CREATURE                   325\n",
       "7      FISH                   320\n",
       "8   SWIMMER                   318\n",
       "9      SEAL                   317"
      ]
     },
     "execution_count": 32,
     "metadata": {},
     "output_type": "execute_result"
    }
   ],
   "source": [
    "x=pd.DataFrame(x)\n",
    "x.columns = [\"word\",\"occurrence in trials\"]\n",
    "x"
   ]
  },
  {
   "cell_type": "code",
   "execution_count": 33,
   "id": "f5fb71dd",
   "metadata": {},
   "outputs": [
    {
     "data": {
      "text/plain": [
       "[('GHETTO', 44),\n",
       " ('CEMETERY', 43),\n",
       " ('WEB', 43),\n",
       " ('MUMMY', 40),\n",
       " ('HUSBAND', 39),\n",
       " ('SPOUSE', 39),\n",
       " ('GYM', 38),\n",
       " ('GHOST', 30),\n",
       " ('PIMPLE', 28),\n",
       " ('SUNSET', 26)]"
      ]
     },
     "execution_count": 33,
     "metadata": {},
     "output_type": "execute_result"
    }
   ],
   "source": [
    "x=ct.most_common()[-10:]\n",
    "x"
   ]
  },
  {
   "cell_type": "code",
   "execution_count": 34,
   "id": "960cc4d7",
   "metadata": {},
   "outputs": [
    {
     "data": {
      "text/html": [
       "<div>\n",
       "<style scoped>\n",
       "    .dataframe tbody tr th:only-of-type {\n",
       "        vertical-align: middle;\n",
       "    }\n",
       "\n",
       "    .dataframe tbody tr th {\n",
       "        vertical-align: top;\n",
       "    }\n",
       "\n",
       "    .dataframe thead th {\n",
       "        text-align: right;\n",
       "    }\n",
       "</style>\n",
       "<table border=\"1\" class=\"dataframe\">\n",
       "  <thead>\n",
       "    <tr style=\"text-align: right;\">\n",
       "      <th></th>\n",
       "      <th>word</th>\n",
       "      <th>occurrence in trials</th>\n",
       "    </tr>\n",
       "  </thead>\n",
       "  <tbody>\n",
       "    <tr>\n",
       "      <th>0</th>\n",
       "      <td>GHETTO</td>\n",
       "      <td>44</td>\n",
       "    </tr>\n",
       "    <tr>\n",
       "      <th>1</th>\n",
       "      <td>CEMETERY</td>\n",
       "      <td>43</td>\n",
       "    </tr>\n",
       "    <tr>\n",
       "      <th>2</th>\n",
       "      <td>WEB</td>\n",
       "      <td>43</td>\n",
       "    </tr>\n",
       "    <tr>\n",
       "      <th>3</th>\n",
       "      <td>MUMMY</td>\n",
       "      <td>40</td>\n",
       "    </tr>\n",
       "    <tr>\n",
       "      <th>4</th>\n",
       "      <td>HUSBAND</td>\n",
       "      <td>39</td>\n",
       "    </tr>\n",
       "    <tr>\n",
       "      <th>5</th>\n",
       "      <td>SPOUSE</td>\n",
       "      <td>39</td>\n",
       "    </tr>\n",
       "    <tr>\n",
       "      <th>6</th>\n",
       "      <td>GYM</td>\n",
       "      <td>38</td>\n",
       "    </tr>\n",
       "    <tr>\n",
       "      <th>7</th>\n",
       "      <td>GHOST</td>\n",
       "      <td>30</td>\n",
       "    </tr>\n",
       "    <tr>\n",
       "      <th>8</th>\n",
       "      <td>PIMPLE</td>\n",
       "      <td>28</td>\n",
       "    </tr>\n",
       "    <tr>\n",
       "      <th>9</th>\n",
       "      <td>SUNSET</td>\n",
       "      <td>26</td>\n",
       "    </tr>\n",
       "  </tbody>\n",
       "</table>\n",
       "</div>"
      ],
      "text/plain": [
       "       word  occurrence in trials\n",
       "0    GHETTO                    44\n",
       "1  CEMETERY                    43\n",
       "2       WEB                    43\n",
       "3     MUMMY                    40\n",
       "4   HUSBAND                    39\n",
       "5    SPOUSE                    39\n",
       "6       GYM                    38\n",
       "7     GHOST                    30\n",
       "8    PIMPLE                    28\n",
       "9    SUNSET                    26"
      ]
     },
     "execution_count": 34,
     "metadata": {},
     "output_type": "execute_result"
    }
   ],
   "source": [
    "x=pd.DataFrame(x)\n",
    "x.columns = [\"word\",\"occurrence in trials\"]\n",
    "x"
   ]
  },
  {
   "cell_type": "code",
   "execution_count": null,
   "id": "446d4715",
   "metadata": {},
   "outputs": [],
   "source": []
  },
  {
   "cell_type": "code",
   "execution_count": 35,
   "id": "c06c9158",
   "metadata": {},
   "outputs": [
    {
     "data": {
      "text/plain": [
       "1638"
      ]
     },
     "execution_count": 35,
     "metadata": {},
     "output_type": "execute_result"
    }
   ],
   "source": [
    "unique_words = list(set(all_words))\n",
    "len(unique_words)"
   ]
  },
  {
   "cell_type": "code",
   "execution_count": 36,
   "id": "715a258e",
   "metadata": {},
   "outputs": [],
   "source": [
    "unique_words_length = [len(i) for i in unique_words]"
   ]
  },
  {
   "cell_type": "code",
   "execution_count": 58,
   "id": "e892e30e",
   "metadata": {},
   "outputs": [],
   "source": [
    "ctl = Counter(unique_words_length)"
   ]
  },
  {
   "cell_type": "code",
   "execution_count": 59,
   "id": "843617ed",
   "metadata": {},
   "outputs": [
    {
     "data": {
      "text/plain": [
       "[(5, 330),\n",
       " (6, 323),\n",
       " (4, 307),\n",
       " (7, 244),\n",
       " (8, 158),\n",
       " (3, 115),\n",
       " (9, 97),\n",
       " (10, 44),\n",
       " (11, 14),\n",
       " (12, 5),\n",
       " (2, 1)]"
      ]
     },
     "execution_count": 59,
     "metadata": {},
     "output_type": "execute_result"
    }
   ],
   "source": [
    "x=ctl.most_common()\n",
    "x"
   ]
  },
  {
   "cell_type": "code",
   "execution_count": 60,
   "id": "835f4ffe",
   "metadata": {},
   "outputs": [
    {
     "data": {
      "text/html": [
       "<div>\n",
       "<style scoped>\n",
       "    .dataframe tbody tr th:only-of-type {\n",
       "        vertical-align: middle;\n",
       "    }\n",
       "\n",
       "    .dataframe tbody tr th {\n",
       "        vertical-align: top;\n",
       "    }\n",
       "\n",
       "    .dataframe thead th {\n",
       "        text-align: right;\n",
       "    }\n",
       "</style>\n",
       "<table border=\"1\" class=\"dataframe\">\n",
       "  <thead>\n",
       "    <tr style=\"text-align: right;\">\n",
       "      <th></th>\n",
       "      <th>length of word</th>\n",
       "      <th>occurrence in vocabulary</th>\n",
       "    </tr>\n",
       "  </thead>\n",
       "  <tbody>\n",
       "    <tr>\n",
       "      <th>0</th>\n",
       "      <td>2</td>\n",
       "      <td>1</td>\n",
       "    </tr>\n",
       "    <tr>\n",
       "      <th>1</th>\n",
       "      <td>3</td>\n",
       "      <td>115</td>\n",
       "    </tr>\n",
       "    <tr>\n",
       "      <th>2</th>\n",
       "      <td>4</td>\n",
       "      <td>307</td>\n",
       "    </tr>\n",
       "    <tr>\n",
       "      <th>3</th>\n",
       "      <td>5</td>\n",
       "      <td>330</td>\n",
       "    </tr>\n",
       "    <tr>\n",
       "      <th>4</th>\n",
       "      <td>6</td>\n",
       "      <td>323</td>\n",
       "    </tr>\n",
       "    <tr>\n",
       "      <th>5</th>\n",
       "      <td>7</td>\n",
       "      <td>244</td>\n",
       "    </tr>\n",
       "    <tr>\n",
       "      <th>6</th>\n",
       "      <td>8</td>\n",
       "      <td>158</td>\n",
       "    </tr>\n",
       "    <tr>\n",
       "      <th>7</th>\n",
       "      <td>9</td>\n",
       "      <td>97</td>\n",
       "    </tr>\n",
       "    <tr>\n",
       "      <th>8</th>\n",
       "      <td>10</td>\n",
       "      <td>44</td>\n",
       "    </tr>\n",
       "    <tr>\n",
       "      <th>9</th>\n",
       "      <td>11</td>\n",
       "      <td>14</td>\n",
       "    </tr>\n",
       "    <tr>\n",
       "      <th>10</th>\n",
       "      <td>12</td>\n",
       "      <td>5</td>\n",
       "    </tr>\n",
       "    <tr>\n",
       "      <th>11</th>\n",
       "      <td>TOTAL</td>\n",
       "      <td>1638</td>\n",
       "    </tr>\n",
       "  </tbody>\n",
       "</table>\n",
       "</div>"
      ],
      "text/plain": [
       "   length of word  occurrence in vocabulary\n",
       "0               2                         1\n",
       "1               3                       115\n",
       "2               4                       307\n",
       "3               5                       330\n",
       "4               6                       323\n",
       "5               7                       244\n",
       "6               8                       158\n",
       "7               9                        97\n",
       "8              10                        44\n",
       "9              11                        14\n",
       "10             12                         5\n",
       "11          TOTAL                      1638"
      ]
     },
     "execution_count": 60,
     "metadata": {},
     "output_type": "execute_result"
    }
   ],
   "source": [
    "x=pd.DataFrame(x)\n",
    "x.columns = [\"length of word\",\"occurrence in vocabulary\"]\n",
    "x = x.sort_values(by=\"length of word\")\n",
    "x.reset_index(inplace=True,drop=True)\n",
    "x.loc[len(x.index)] = [\"TOTAL\",x[\"occurrence in vocabulary\"].sum()] \n",
    "x"
   ]
  },
  {
   "cell_type": "code",
   "execution_count": null,
   "id": "b220e6d5",
   "metadata": {},
   "outputs": [],
   "source": []
  },
  {
   "cell_type": "code",
   "execution_count": 64,
   "id": "046704f6",
   "metadata": {},
   "outputs": [
    {
     "data": {
      "text/plain": [
       "['RECEPTIONIST',\n",
       " 'ENCYCLOPEDIA',\n",
       " 'HANDKERCHIEF',\n",
       " 'PROFESSIONAL',\n",
       " 'REFRIGERATOR']"
      ]
     },
     "execution_count": 64,
     "metadata": {},
     "output_type": "execute_result"
    }
   ],
   "source": [
    "[i for i in unique_words if len(i)==12]"
   ]
  },
  {
   "cell_type": "code",
   "execution_count": null,
   "id": "16e89467",
   "metadata": {},
   "outputs": [],
   "source": []
  },
  {
   "cell_type": "markdown",
   "id": "a0ba9495",
   "metadata": {},
   "source": [
    "### testing word length hypothesis"
   ]
  },
  {
   "cell_type": "code",
   "execution_count": 73,
   "id": "36beb7fb",
   "metadata": {},
   "outputs": [],
   "source": [
    "with open('young_subjects_full_study_json_list_march23.json', \"r\") as read_file:\n",
    "    data_json_list = json.load(read_file)"
   ]
  },
  {
   "cell_type": "code",
   "execution_count": 74,
   "id": "295f329e",
   "metadata": {},
   "outputs": [
    {
     "data": {
      "text/plain": [
       "17335"
      ]
     },
     "execution_count": 74,
     "metadata": {},
     "output_type": "execute_result"
    }
   ],
   "source": [
    "len(data_json_list)"
   ]
  },
  {
   "cell_type": "code",
   "execution_count": 76,
   "id": "c86e8c52",
   "metadata": {},
   "outputs": [],
   "source": [
    "word_length_total = [0]*12\n",
    "word_length_recalled = [0]*12\n",
    "\n",
    "for r in data_json_list:\n",
    "    a = r[\"actualWords_studyPhase\"]\n",
    "    b = r[\"actualWords_recallPhase\"]\n",
    "    for i in a:\n",
    "        word_length_total[len(i)-1]+=1\n",
    "        if i in b:\n",
    "            word_length_recalled[len(i)-1]+=1\n"
   ]
  },
  {
   "cell_type": "code",
   "execution_count": 78,
   "id": "3120c398",
   "metadata": {},
   "outputs": [
    {
     "data": {
      "text/plain": [
       "([0, 305, 19811, 53565, 54973, 54801, 40393, 26096, 17075, 6831, 2582, 928],\n",
       " [0, 232, 12486, 31955, 33296, 33381, 24871, 16267, 11044, 4413, 1823, 647])"
      ]
     },
     "execution_count": 78,
     "metadata": {},
     "output_type": "execute_result"
    }
   ],
   "source": [
    "word_length_total , word_length_recalled"
   ]
  },
  {
   "cell_type": "code",
   "execution_count": 80,
   "id": "1e99308d",
   "metadata": {},
   "outputs": [
    {
     "data": {
      "text/plain": [
       "[0.760655737704918,\n",
       " 0.6302559184291555,\n",
       " 0.5965649211238682,\n",
       " 0.6056791515835046,\n",
       " 0.6091312202332074,\n",
       " 0.615725496992053,\n",
       " 0.6233522378908645,\n",
       " 0.6467935578330893,\n",
       " 0.6460254721124287,\n",
       " 0.7060418280402788,\n",
       " 0.697198275862069]"
      ]
     },
     "execution_count": 80,
     "metadata": {},
     "output_type": "execute_result"
    }
   ],
   "source": [
    "word_length = [i for i in range(2,13)]\n",
    "recall_rate = [i/j for i,j in zip(word_length_recalled[1:],word_length_total[1:])]\n",
    "recall_rate"
   ]
  },
  {
   "cell_type": "code",
   "execution_count": 86,
   "id": "9ab60f93",
   "metadata": {},
   "outputs": [
    {
     "data": {
      "image/png": "[encoded data removed]",
      "text/plain": [
       "<Figure size 720x576 with 1 Axes>"
      ]
     },
     "metadata": {
      "needs_background": "light"
     },
     "output_type": "display_data"
    }
   ],
   "source": [
    "fig, ax = plt.subplots(figsize=(10,8))\n",
    "plt.bar(word_length, \n",
    "        recall_rate,\n",
    "        width = 0.5)\n",
    "plt.xticks(word_length)\n",
    "plt.title(\"Display of recall rate as a function of word's length (for young subjects)\")\n",
    "plt.xlabel(\"length of word from study phase\")\n",
    "plt.ylabel(\"recall rate\")\n",
    "\n",
    "for index in range(len(word_length)):\n",
    "    ax.text(word_length[index]-0.3, recall_rate[index]+0.01, round(recall_rate[index],3), size=10)\n",
    "\n",
    "plt.grid()\n",
    "plt.show() "
   ]
  },
  {
   "cell_type": "code",
   "execution_count": null,
   "id": "9daf941b",
   "metadata": {},
   "outputs": [],
   "source": []
  }
 ],
 "metadata": {
  "kernelspec": {
   "display_name": "Python 3 (ipykernel)",
   "language": "python",
   "name": "python3"
  },
  "language_info": {
   "codemirror_mode": {
    "name": "ipython",
    "version": 3
   },
   "file_extension": ".py",
   "mimetype": "text/x-python",
   "name": "python",
   "nbconvert_exporter": "python",
   "pygments_lexer": "ipython3",
   "version": "3.9.7"
  }
 },
 "nbformat": 4,
 "nbformat_minor": 5
}
