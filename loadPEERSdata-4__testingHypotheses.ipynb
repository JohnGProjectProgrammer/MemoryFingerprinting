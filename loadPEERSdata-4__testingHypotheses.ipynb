{
 "cells": [
  {
   "cell_type": "raw",
   "id": "65c93a82",
   "metadata": {},
   "source": [
    "recall_counter ====>\n",
    "\n",
    "[0.7014133256417652, 0.648456879146236, 0.6077300259590424, 0.5853475627343525, 0.5660801845976349, 0.5449668301124891, 0.5321026824343813, 0.5238534756273435, 0.515488895298529, 0.526680126910874, 0.5408710700894145, 0.5496394577444477, 0.6060571098932795, 0.6731468128064609, 0.8187481972887223, 0.9450245168733775]\n",
    "\n",
    "\n",
    "\n",
    "\n",
    "problem in data =====> ASSISTANT NOT PRESENT\n",
    "\n",
    "{'subjectIndex': 63,\n",
    " 'sessionIndex': 1,\n",
    " 'listIndex': 6,\n",
    " 'listLength_studyPhase': 16,\n",
    " 'listLength_recallPhase': 8,\n",
    " 'wordIndices_studyPhase': [822,\n",
    "  362,\n",
    "  1205,\n",
    "  1449,\n",
    "  330,\n",
    "  1131,\n",
    "  1182,\n",
    "  552,\n",
    "  553,\n",
    "  784,\n",
    "  1207,\n",
    "  1414,\n",
    "  1501,\n",
    "  842,\n",
    "  957,\n",
    "  1378],\n",
    " 'serialPositions_studyPhase': [0,\n",
    "  1,\n",
    "  2,\n",
    "  3,\n",
    "  4,\n",
    "  5,\n",
    "  6,\n",
    "  7,\n",
    "  8,\n",
    "  9,\n",
    "  10,\n",
    "  11,\n",
    "  12,\n",
    "  13,\n",
    "  14,\n",
    "  15],\n",
    " 'actualWords_studyPhase': ['LIMB',\n",
    "  'CONDUCTOR',\n",
    "  'ROOF',\n",
    "  'TENT',\n",
    "  'CLOWN',\n",
    "  'PROFESSOR',\n",
    "  'RELATIVE',\n",
    "  'FARM',\n",
    "  'FARMER',\n",
    "  'KNEE',\n",
    "  'ROOMMATE',\n",
    "  'SURVEY',\n",
    "  'TREAT',\n",
    "  'LOLLIPOP',\n",
    "  'NOSE',\n",
    "  'STEREO'],\n",
    " 'wordIndices_recallPhase': [1378, 1207, 822, 784, 362, 48, 1449, 1205],\n",
    " 'serialPositions_recallPhase': [15, 10, 16, 9, 1, 12, 3, 2],\n",
    " 'actualWords_recallPhase': ['STEREO',\n",
    "  'ROOMMATE',\n",
    "  'LIMB',\n",
    "  'KNEE',\n",
    "  'CONDUCTOR',\n",
    "  'ASSISTANT',\n",
    "  'TENT',\n",
    "  'ROOF']}\n"
   ]
  },
  {
   "cell_type": "code",
   "execution_count": null,
   "id": "b413497e",
   "metadata": {},
   "outputs": [],
   "source": []
  },
  {
   "cell_type": "code",
   "execution_count": null,
   "id": "c3033918",
   "metadata": {},
   "outputs": [],
   "source": []
  },
  {
   "cell_type": "code",
   "execution_count": 2,
   "id": "df7afb01",
   "metadata": {},
   "outputs": [],
   "source": [
    "import numpy as np\n",
    "import helper_functions as functions\n",
    "import json\n",
    "\n",
    "import pandas as pd\n",
    "import matplotlib.pyplot as plt\n",
    "%matplotlib inline\n",
    "import seaborn as sns\n",
    "pd.set_option('display.max_rows', None)\n",
    "pd.set_option('display.max_columns', None)\n",
    "\n",
    "from collections import Counter"
   ]
  },
  {
   "cell_type": "code",
   "execution_count": null,
   "id": "cf0c3715",
   "metadata": {},
   "outputs": [],
   "source": []
  },
  {
   "cell_type": "code",
   "execution_count": 62,
   "id": "b2bea0cf",
   "metadata": {},
   "outputs": [],
   "source": [
    "with open('young_subjects_full_study_json_list_march23.json', \"r\") as read_file:\n",
    "    data_json_list = json.load(read_file)"
   ]
  },
  {
   "cell_type": "code",
   "execution_count": 63,
   "id": "86c6eeab",
   "metadata": {},
   "outputs": [
    {
     "data": {
      "text/plain": [
       "17335"
      ]
     },
     "execution_count": 63,
     "metadata": {},
     "output_type": "execute_result"
    }
   ],
   "source": [
    "len(data_json_list)"
   ]
  },
  {
   "cell_type": "code",
   "execution_count": null,
   "id": "740c64a3",
   "metadata": {},
   "outputs": [],
   "source": []
  },
  {
   "cell_type": "code",
   "execution_count": 4,
   "id": "846cf8a9",
   "metadata": {
    "scrolled": true
   },
   "outputs": [
    {
     "data": {
      "text/plain": [
       "{'subjectIndex': 63,\n",
       " 'sessionIndex': 1,\n",
       " 'listIndex': 10,\n",
       " 'listLength_studyPhase': 16,\n",
       " 'listLength_recallPhase': 14,\n",
       " 'wordIndices_studyPhase': [1601,\n",
       "  117,\n",
       "  477,\n",
       "  239,\n",
       "  1100,\n",
       "  457,\n",
       "  276,\n",
       "  715,\n",
       "  972,\n",
       "  43,\n",
       "  948,\n",
       "  1323,\n",
       "  1570,\n",
       "  189,\n",
       "  588,\n",
       "  1582],\n",
       " 'serialPositions_studyPhase': [0,\n",
       "  1,\n",
       "  2,\n",
       "  3,\n",
       "  4,\n",
       "  5,\n",
       "  6,\n",
       "  7,\n",
       "  8,\n",
       "  9,\n",
       "  10,\n",
       "  11,\n",
       "  12,\n",
       "  13,\n",
       "  14,\n",
       "  15],\n",
       " 'actualWords_studyPhase': ['WHALE',\n",
       "  'BEGGAR',\n",
       "  'DOCK',\n",
       "  'CAPTAIN',\n",
       "  'POLYESTER',\n",
       "  'DIAL',\n",
       "  'CHALK',\n",
       "  'HOOK',\n",
       "  'OFFICE',\n",
       "  'ARTIST',\n",
       "  'NEWSPAPER',\n",
       "  'SLACKS',\n",
       "  'VIOLA',\n",
       "  'BUGLE',\n",
       "  'FOLDER',\n",
       "  'WALL'],\n",
       " 'wordIndices_recallPhase': [239,\n",
       "  715,\n",
       "  117,\n",
       "  1601,\n",
       "  477,\n",
       "  972,\n",
       "  43,\n",
       "  1582,\n",
       "  155,\n",
       "  948,\n",
       "  1323,\n",
       "  1100,\n",
       "  457,\n",
       "  -1],\n",
       " 'serialPositions_recallPhase': [3,\n",
       "  7,\n",
       "  1,\n",
       "  16,\n",
       "  2,\n",
       "  8,\n",
       "  9,\n",
       "  15,\n",
       "  -1,\n",
       "  10,\n",
       "  11,\n",
       "  4,\n",
       "  5,\n",
       "  -1],\n",
       " 'actualWords_recallPhase': ['CAPTAIN',\n",
       "  'HOOK',\n",
       "  'BEGGAR',\n",
       "  'WHALE',\n",
       "  'DOCK',\n",
       "  'OFFICE',\n",
       "  'ARTIST',\n",
       "  'WALL',\n",
       "  'BOULDER',\n",
       "  'NEWSPAPER',\n",
       "  'SLACKS',\n",
       "  'POLYESTER',\n",
       "  'DIAL',\n",
       "  'VV']}"
      ]
     },
     "execution_count": 4,
     "metadata": {},
     "output_type": "execute_result"
    }
   ],
   "source": [
    "data_json_list[10]"
   ]
  },
  {
   "cell_type": "markdown",
   "id": "f5fb3065",
   "metadata": {},
   "source": [
    "### task = average words recalled from study phase\n"
   ]
  },
  {
   "cell_type": "code",
   "execution_count": 64,
   "id": "ff800325",
   "metadata": {},
   "outputs": [],
   "source": [
    "recall_power = []\n",
    "\n",
    "for r in data_json_list:\n",
    "    recall_indices = list(set(r[\"serialPositions_recallPhase\"]))\n",
    "    l = len(recall_indices)\n",
    "    if -1 in recall_indices:\n",
    "        l = l-1\n",
    "    if 0 in recall_indices and 16 in recall_indices:\n",
    "        l = l-1\n",
    "    recall_power.append([r[\"subjectIndex\"],r[\"sessionIndex\"],r[\"listIndex\"],l])    \n",
    "    \n",
    "cols = ['subjectIndex',\n",
    "        'sessionIndex',\n",
    "        'listIndex',\n",
    "        'wordsRecalled']\n",
    "\n",
    "df_recall_power = pd.DataFrame(recall_power, columns = cols)"
   ]
  },
  {
   "cell_type": "code",
   "execution_count": 65,
   "id": "9d8f9749",
   "metadata": {},
   "outputs": [
    {
     "data": {
      "text/plain": [
       "(17335, 4)"
      ]
     },
     "execution_count": 65,
     "metadata": {},
     "output_type": "execute_result"
    }
   ],
   "source": [
    "df_recall_power.shape"
   ]
  },
  {
   "cell_type": "code",
   "execution_count": 66,
   "id": "a3c7266e",
   "metadata": {},
   "outputs": [
    {
     "data": {
      "text/html": [
       "<div>\n",
       "<style scoped>\n",
       "    .dataframe tbody tr th:only-of-type {\n",
       "        vertical-align: middle;\n",
       "    }\n",
       "\n",
       "    .dataframe tbody tr th {\n",
       "        vertical-align: top;\n",
       "    }\n",
       "\n",
       "    .dataframe thead th {\n",
       "        text-align: right;\n",
       "    }\n",
       "</style>\n",
       "<table border=\"1\" class=\"dataframe\">\n",
       "  <thead>\n",
       "    <tr style=\"text-align: right;\">\n",
       "      <th></th>\n",
       "      <th>subjectIndex</th>\n",
       "      <th>sessionIndex</th>\n",
       "      <th>listIndex</th>\n",
       "      <th>wordsRecalled</th>\n",
       "    </tr>\n",
       "  </thead>\n",
       "  <tbody>\n",
       "    <tr>\n",
       "      <th>0</th>\n",
       "      <td>63</td>\n",
       "      <td>1</td>\n",
       "      <td>0</td>\n",
       "      <td>7</td>\n",
       "    </tr>\n",
       "    <tr>\n",
       "      <th>1</th>\n",
       "      <td>63</td>\n",
       "      <td>1</td>\n",
       "      <td>1</td>\n",
       "      <td>4</td>\n",
       "    </tr>\n",
       "    <tr>\n",
       "      <th>2</th>\n",
       "      <td>63</td>\n",
       "      <td>1</td>\n",
       "      <td>2</td>\n",
       "      <td>8</td>\n",
       "    </tr>\n",
       "    <tr>\n",
       "      <th>3</th>\n",
       "      <td>63</td>\n",
       "      <td>1</td>\n",
       "      <td>3</td>\n",
       "      <td>6</td>\n",
       "    </tr>\n",
       "    <tr>\n",
       "      <th>4</th>\n",
       "      <td>63</td>\n",
       "      <td>1</td>\n",
       "      <td>4</td>\n",
       "      <td>10</td>\n",
       "    </tr>\n",
       "    <tr>\n",
       "      <th>5</th>\n",
       "      <td>63</td>\n",
       "      <td>1</td>\n",
       "      <td>5</td>\n",
       "      <td>5</td>\n",
       "    </tr>\n",
       "    <tr>\n",
       "      <th>6</th>\n",
       "      <td>63</td>\n",
       "      <td>1</td>\n",
       "      <td>6</td>\n",
       "      <td>8</td>\n",
       "    </tr>\n",
       "    <tr>\n",
       "      <th>7</th>\n",
       "      <td>63</td>\n",
       "      <td>1</td>\n",
       "      <td>7</td>\n",
       "      <td>11</td>\n",
       "    </tr>\n",
       "    <tr>\n",
       "      <th>8</th>\n",
       "      <td>63</td>\n",
       "      <td>1</td>\n",
       "      <td>8</td>\n",
       "      <td>3</td>\n",
       "    </tr>\n",
       "    <tr>\n",
       "      <th>9</th>\n",
       "      <td>63</td>\n",
       "      <td>1</td>\n",
       "      <td>9</td>\n",
       "      <td>11</td>\n",
       "    </tr>\n",
       "    <tr>\n",
       "      <th>10</th>\n",
       "      <td>63</td>\n",
       "      <td>1</td>\n",
       "      <td>10</td>\n",
       "      <td>12</td>\n",
       "    </tr>\n",
       "    <tr>\n",
       "      <th>11</th>\n",
       "      <td>63</td>\n",
       "      <td>1</td>\n",
       "      <td>11</td>\n",
       "      <td>12</td>\n",
       "    </tr>\n",
       "    <tr>\n",
       "      <th>12</th>\n",
       "      <td>63</td>\n",
       "      <td>1</td>\n",
       "      <td>12</td>\n",
       "      <td>5</td>\n",
       "    </tr>\n",
       "    <tr>\n",
       "      <th>13</th>\n",
       "      <td>63</td>\n",
       "      <td>1</td>\n",
       "      <td>13</td>\n",
       "      <td>9</td>\n",
       "    </tr>\n",
       "    <tr>\n",
       "      <th>14</th>\n",
       "      <td>63</td>\n",
       "      <td>1</td>\n",
       "      <td>14</td>\n",
       "      <td>12</td>\n",
       "    </tr>\n",
       "  </tbody>\n",
       "</table>\n",
       "</div>"
      ],
      "text/plain": [
       "    subjectIndex  sessionIndex  listIndex  wordsRecalled\n",
       "0             63             1          0              7\n",
       "1             63             1          1              4\n",
       "2             63             1          2              8\n",
       "3             63             1          3              6\n",
       "4             63             1          4             10\n",
       "5             63             1          5              5\n",
       "6             63             1          6              8\n",
       "7             63             1          7             11\n",
       "8             63             1          8              3\n",
       "9             63             1          9             11\n",
       "10            63             1         10             12\n",
       "11            63             1         11             12\n",
       "12            63             1         12              5\n",
       "13            63             1         13              9\n",
       "14            63             1         14             12"
      ]
     },
     "execution_count": 66,
     "metadata": {},
     "output_type": "execute_result"
    }
   ],
   "source": [
    "df_recall_power.head(15)"
   ]
  },
  {
   "cell_type": "code",
   "execution_count": 67,
   "id": "9c544270",
   "metadata": {},
   "outputs": [
    {
     "data": {
      "text/plain": [
       "9.885030285549467"
      ]
     },
     "execution_count": 67,
     "metadata": {},
     "output_type": "execute_result"
    }
   ],
   "source": [
    "df_recall_power.wordsRecalled.mean()"
   ]
  },
  {
   "cell_type": "code",
   "execution_count": 10,
   "id": "5be5b3ea",
   "metadata": {},
   "outputs": [
    {
     "data": {
      "text/plain": [
       "({'subjectIndex': 63,\n",
       "  'sessionIndex': 1,\n",
       "  'listIndex': 8,\n",
       "  'listLength_studyPhase': 16,\n",
       "  'listLength_recallPhase': 3,\n",
       "  'wordIndices_studyPhase': [21,\n",
       "   1099,\n",
       "   691,\n",
       "   179,\n",
       "   1226,\n",
       "   1362,\n",
       "   20,\n",
       "   751,\n",
       "   243,\n",
       "   253,\n",
       "   463,\n",
       "   17,\n",
       "   884,\n",
       "   201,\n",
       "   1010,\n",
       "   844],\n",
       "  'serialPositions_studyPhase': [0,\n",
       "   1,\n",
       "   2,\n",
       "   3,\n",
       "   4,\n",
       "   5,\n",
       "   6,\n",
       "   7,\n",
       "   8,\n",
       "   9,\n",
       "   10,\n",
       "   11,\n",
       "   12,\n",
       "   13,\n",
       "   14,\n",
       "   15],\n",
       "  'actualWords_studyPhase': ['ANCHOR',\n",
       "   'POLITICIAN',\n",
       "   'HATCHET',\n",
       "   'BROTHER',\n",
       "   'SALIVA',\n",
       "   'SQUIRREL',\n",
       "   'ANCESTOR',\n",
       "   'JAW',\n",
       "   'CARD',\n",
       "   'CASHEW',\n",
       "   'DICTIONARY',\n",
       "   'ALMANAC',\n",
       "   'MECHANIC',\n",
       "   'BUS',\n",
       "   'PANTS',\n",
       "   'LOOP'],\n",
       "  'wordIndices_recallPhase': [844, 884, 201],\n",
       "  'serialPositions_recallPhase': [15, 12, 13],\n",
       "  'actualWords_recallPhase': ['LOOP', 'MECHANIC', 'BUS']},\n",
       " {'subjectIndex': 63,\n",
       "  'sessionIndex': 1,\n",
       "  'listIndex': 11,\n",
       "  'listLength_studyPhase': 16,\n",
       "  'listLength_recallPhase': 12,\n",
       "  'wordIndices_studyPhase': [1298,\n",
       "   145,\n",
       "   1061,\n",
       "   53,\n",
       "   1076,\n",
       "   1314,\n",
       "   862,\n",
       "   908,\n",
       "   956,\n",
       "   1620,\n",
       "   1391,\n",
       "   732,\n",
       "   354,\n",
       "   348,\n",
       "   389,\n",
       "   238],\n",
       "  'serialPositions_studyPhase': [0,\n",
       "   1,\n",
       "   2,\n",
       "   3,\n",
       "   4,\n",
       "   5,\n",
       "   6,\n",
       "   7,\n",
       "   8,\n",
       "   9,\n",
       "   10,\n",
       "   11,\n",
       "   12,\n",
       "   13,\n",
       "   14,\n",
       "   15],\n",
       "  'actualWords_studyPhase': ['SHRINE',\n",
       "   'BODY',\n",
       "   'PICTURE',\n",
       "   'ATLAS',\n",
       "   'PISTON',\n",
       "   'SKELETON',\n",
       "   'MAN',\n",
       "   'MONEY',\n",
       "   'NOOSE',\n",
       "   'WOMAN',\n",
       "   'STRAWBERRY',\n",
       "   'ICING',\n",
       "   'COMMANDER',\n",
       "   'COLONEL',\n",
       "   'COUNTY',\n",
       "   'CAPITAL'],\n",
       "  'wordIndices_recallPhase': [1298,\n",
       "   862,\n",
       "   1061,\n",
       "   145,\n",
       "   1314,\n",
       "   1620,\n",
       "   1391,\n",
       "   732,\n",
       "   354,\n",
       "   348,\n",
       "   389,\n",
       "   238],\n",
       "  'serialPositions_recallPhase': [16, 6, 2, 1, 5, 9, 10, 11, 12, 13, 14, 15],\n",
       "  'actualWords_recallPhase': ['SHRINE',\n",
       "   'MAN',\n",
       "   'PICTURE',\n",
       "   'BODY',\n",
       "   'SKELETON',\n",
       "   'WOMAN',\n",
       "   'STRAWBERRY',\n",
       "   'ICING',\n",
       "   'COMMANDER',\n",
       "   'COLONEL',\n",
       "   'COUNTY',\n",
       "   'CAPITAL']})"
      ]
     },
     "execution_count": 10,
     "metadata": {},
     "output_type": "execute_result"
    }
   ],
   "source": [
    "### same user recalled 12 out of 16 in 11th list but 3 out of 16 in 8th list \n",
    "### is there a concept of fatigue ?? lag ?? refreshment ?? reinforcing the memory muscles over time.\n",
    "\n",
    "data_json_list[8] , data_json_list[11]"
   ]
  },
  {
   "cell_type": "code",
   "execution_count": 13,
   "id": "0392d3c6",
   "metadata": {},
   "outputs": [
    {
     "data": {
      "text/plain": [
       "9     1993\n",
       "10    1972\n",
       "11    1829\n",
       "8     1787\n",
       "12    1659\n",
       "7     1498\n",
       "13    1355\n",
       "6     1172\n",
       "14    1100\n",
       "15     876\n",
       "5      725\n",
       "16     592\n",
       "4      425\n",
       "3      229\n",
       "2       97\n",
       "1       26\n",
       "Name: wordsRecalled, dtype: int64"
      ]
     },
     "execution_count": 13,
     "metadata": {},
     "output_type": "execute_result"
    }
   ],
   "source": [
    "df_recall_power.wordsRecalled.value_counts()"
   ]
  },
  {
   "cell_type": "code",
   "execution_count": 14,
   "id": "ce120d73",
   "metadata": {},
   "outputs": [
    {
     "data": {
      "text/html": [
       "<div>\n",
       "<style scoped>\n",
       "    .dataframe tbody tr th:only-of-type {\n",
       "        vertical-align: middle;\n",
       "    }\n",
       "\n",
       "    .dataframe tbody tr th {\n",
       "        vertical-align: top;\n",
       "    }\n",
       "\n",
       "    .dataframe thead th {\n",
       "        text-align: right;\n",
       "    }\n",
       "</style>\n",
       "<table border=\"1\" class=\"dataframe\">\n",
       "  <thead>\n",
       "    <tr style=\"text-align: right;\">\n",
       "      <th></th>\n",
       "      <th>words_recalled</th>\n",
       "      <th>percentage_of_total</th>\n",
       "    </tr>\n",
       "  </thead>\n",
       "  <tbody>\n",
       "    <tr>\n",
       "      <th>0</th>\n",
       "      <td>9</td>\n",
       "      <td>0.114970</td>\n",
       "    </tr>\n",
       "    <tr>\n",
       "      <th>1</th>\n",
       "      <td>10</td>\n",
       "      <td>0.113758</td>\n",
       "    </tr>\n",
       "    <tr>\n",
       "      <th>2</th>\n",
       "      <td>11</td>\n",
       "      <td>0.105509</td>\n",
       "    </tr>\n",
       "    <tr>\n",
       "      <th>3</th>\n",
       "      <td>8</td>\n",
       "      <td>0.103086</td>\n",
       "    </tr>\n",
       "    <tr>\n",
       "      <th>4</th>\n",
       "      <td>12</td>\n",
       "      <td>0.095702</td>\n",
       "    </tr>\n",
       "    <tr>\n",
       "      <th>5</th>\n",
       "      <td>7</td>\n",
       "      <td>0.086415</td>\n",
       "    </tr>\n",
       "    <tr>\n",
       "      <th>6</th>\n",
       "      <td>13</td>\n",
       "      <td>0.078166</td>\n",
       "    </tr>\n",
       "    <tr>\n",
       "      <th>7</th>\n",
       "      <td>6</td>\n",
       "      <td>0.067609</td>\n",
       "    </tr>\n",
       "    <tr>\n",
       "      <th>8</th>\n",
       "      <td>14</td>\n",
       "      <td>0.063455</td>\n",
       "    </tr>\n",
       "    <tr>\n",
       "      <th>9</th>\n",
       "      <td>15</td>\n",
       "      <td>0.050534</td>\n",
       "    </tr>\n",
       "    <tr>\n",
       "      <th>10</th>\n",
       "      <td>5</td>\n",
       "      <td>0.041823</td>\n",
       "    </tr>\n",
       "    <tr>\n",
       "      <th>11</th>\n",
       "      <td>16</td>\n",
       "      <td>0.034151</td>\n",
       "    </tr>\n",
       "    <tr>\n",
       "      <th>12</th>\n",
       "      <td>4</td>\n",
       "      <td>0.024517</td>\n",
       "    </tr>\n",
       "    <tr>\n",
       "      <th>13</th>\n",
       "      <td>3</td>\n",
       "      <td>0.013210</td>\n",
       "    </tr>\n",
       "    <tr>\n",
       "      <th>14</th>\n",
       "      <td>2</td>\n",
       "      <td>0.005596</td>\n",
       "    </tr>\n",
       "    <tr>\n",
       "      <th>15</th>\n",
       "      <td>1</td>\n",
       "      <td>0.001500</td>\n",
       "    </tr>\n",
       "  </tbody>\n",
       "</table>\n",
       "</div>"
      ],
      "text/plain": [
       "    words_recalled  percentage_of_total\n",
       "0                9             0.114970\n",
       "1               10             0.113758\n",
       "2               11             0.105509\n",
       "3                8             0.103086\n",
       "4               12             0.095702\n",
       "5                7             0.086415\n",
       "6               13             0.078166\n",
       "7                6             0.067609\n",
       "8               14             0.063455\n",
       "9               15             0.050534\n",
       "10               5             0.041823\n",
       "11              16             0.034151\n",
       "12               4             0.024517\n",
       "13               3             0.013210\n",
       "14               2             0.005596\n",
       "15               1             0.001500"
      ]
     },
     "execution_count": 14,
     "metadata": {},
     "output_type": "execute_result"
    }
   ],
   "source": [
    "df_y_n = df_recall_power.wordsRecalled.value_counts(normalize=True).rename_axis('words_recalled').reset_index(name='percentage_of_total')\n",
    "df_y_n"
   ]
  },
  {
   "cell_type": "code",
   "execution_count": null,
   "id": "abcf7cf6",
   "metadata": {},
   "outputs": [],
   "source": []
  },
  {
   "cell_type": "code",
   "execution_count": 29,
   "id": "9076b364",
   "metadata": {},
   "outputs": [
    {
     "data": {
      "image/png": "[encoded data removed]",
      "text/plain": [
       "<Figure size 720x576 with 1 Axes>"
      ]
     },
     "metadata": {
      "needs_background": "light"
     },
     "output_type": "display_data"
    }
   ],
   "source": [
    "plt.figure(figsize = (10, 8))\n",
    "\n",
    "plt.bar(df_y_n[\"words_recalled\"], \n",
    "        df_y_n[\"percentage_of_total\"],\n",
    "        width = 0.5)\n",
    " \n",
    "plt.xticks([i for i in range(1,17)])\n",
    "plt.title(\"Display of total recall (for young subjects)\")\n",
    "plt.xlabel(\"number of words recalled\")\n",
    "plt.ylabel(\"percentage of total trials\")\n",
    "plt.grid()\n",
    "plt.show()"
   ]
  },
  {
   "cell_type": "code",
   "execution_count": null,
   "id": "d0ab1721",
   "metadata": {},
   "outputs": [],
   "source": []
  },
  {
   "cell_type": "code",
   "execution_count": null,
   "id": "a5d33562",
   "metadata": {},
   "outputs": [],
   "source": []
  },
  {
   "cell_type": "code",
   "execution_count": null,
   "id": "db704c87",
   "metadata": {},
   "outputs": [],
   "source": []
  },
  {
   "cell_type": "code",
   "execution_count": 56,
   "id": "af3ebe3e",
   "metadata": {},
   "outputs": [],
   "source": [
    "with open('old_subjects_full_study_json_list_march23.json', \"r\") as read_file:\n",
    "    data_json_list = json.load(read_file)"
   ]
  },
  {
   "cell_type": "code",
   "execution_count": 57,
   "id": "c8a15ef2",
   "metadata": {},
   "outputs": [
    {
     "data": {
      "text/plain": [
       "3644"
      ]
     },
     "execution_count": 57,
     "metadata": {},
     "output_type": "execute_result"
    }
   ],
   "source": [
    "len(data_json_list)"
   ]
  },
  {
   "cell_type": "code",
   "execution_count": 58,
   "id": "4cab0607",
   "metadata": {},
   "outputs": [],
   "source": [
    "recall_power = []\n",
    "\n",
    "for r in data_json_list:\n",
    "    recall_indices = list(set(r[\"serialPositions_recallPhase\"]))\n",
    "    l = len(recall_indices)\n",
    "    if -1 in recall_indices:\n",
    "        l = l-1\n",
    "    if 0 in recall_indices and 16 in recall_indices:\n",
    "        l = l-1\n",
    "    recall_power.append([r[\"subjectIndex\"],r[\"sessionIndex\"],r[\"listIndex\"],l])    \n",
    "    \n",
    "cols = ['subjectIndex',\n",
    "        'sessionIndex',\n",
    "        'listIndex',\n",
    "        'wordsRecalled']\n",
    "\n",
    "df_recall_power = pd.DataFrame(recall_power, columns = cols)"
   ]
  },
  {
   "cell_type": "code",
   "execution_count": 59,
   "id": "aa97ad0c",
   "metadata": {},
   "outputs": [
    {
     "data": {
      "text/plain": [
       "(3644, 4)"
      ]
     },
     "execution_count": 59,
     "metadata": {},
     "output_type": "execute_result"
    }
   ],
   "source": [
    "df_recall_power.shape"
   ]
  },
  {
   "cell_type": "code",
   "execution_count": 60,
   "id": "33171720",
   "metadata": {},
   "outputs": [
    {
     "data": {
      "text/html": [
       "<div>\n",
       "<style scoped>\n",
       "    .dataframe tbody tr th:only-of-type {\n",
       "        vertical-align: middle;\n",
       "    }\n",
       "\n",
       "    .dataframe tbody tr th {\n",
       "        vertical-align: top;\n",
       "    }\n",
       "\n",
       "    .dataframe thead th {\n",
       "        text-align: right;\n",
       "    }\n",
       "</style>\n",
       "<table border=\"1\" class=\"dataframe\">\n",
       "  <thead>\n",
       "    <tr style=\"text-align: right;\">\n",
       "      <th></th>\n",
       "      <th>subjectIndex</th>\n",
       "      <th>sessionIndex</th>\n",
       "      <th>listIndex</th>\n",
       "      <th>wordsRecalled</th>\n",
       "    </tr>\n",
       "  </thead>\n",
       "  <tbody>\n",
       "    <tr>\n",
       "      <th>0</th>\n",
       "      <td>154</td>\n",
       "      <td>1</td>\n",
       "      <td>0</td>\n",
       "      <td>7</td>\n",
       "    </tr>\n",
       "    <tr>\n",
       "      <th>1</th>\n",
       "      <td>154</td>\n",
       "      <td>1</td>\n",
       "      <td>1</td>\n",
       "      <td>6</td>\n",
       "    </tr>\n",
       "    <tr>\n",
       "      <th>2</th>\n",
       "      <td>154</td>\n",
       "      <td>1</td>\n",
       "      <td>2</td>\n",
       "      <td>8</td>\n",
       "    </tr>\n",
       "    <tr>\n",
       "      <th>3</th>\n",
       "      <td>154</td>\n",
       "      <td>1</td>\n",
       "      <td>3</td>\n",
       "      <td>7</td>\n",
       "    </tr>\n",
       "    <tr>\n",
       "      <th>4</th>\n",
       "      <td>154</td>\n",
       "      <td>1</td>\n",
       "      <td>4</td>\n",
       "      <td>8</td>\n",
       "    </tr>\n",
       "  </tbody>\n",
       "</table>\n",
       "</div>"
      ],
      "text/plain": [
       "   subjectIndex  sessionIndex  listIndex  wordsRecalled\n",
       "0           154             1          0              7\n",
       "1           154             1          1              6\n",
       "2           154             1          2              8\n",
       "3           154             1          3              7\n",
       "4           154             1          4              8"
      ]
     },
     "execution_count": 60,
     "metadata": {},
     "output_type": "execute_result"
    }
   ],
   "source": [
    "df_recall_power.head(5)"
   ]
  },
  {
   "cell_type": "code",
   "execution_count": 61,
   "id": "9c79702e",
   "metadata": {},
   "outputs": [
    {
     "data": {
      "text/plain": [
       "6.97530186608123"
      ]
     },
     "execution_count": 61,
     "metadata": {},
     "output_type": "execute_result"
    }
   ],
   "source": [
    "df_recall_power.wordsRecalled.mean()"
   ]
  },
  {
   "cell_type": "code",
   "execution_count": 36,
   "id": "f9e34ff5",
   "metadata": {},
   "outputs": [
    {
     "data": {
      "text/html": [
       "<div>\n",
       "<style scoped>\n",
       "    .dataframe tbody tr th:only-of-type {\n",
       "        vertical-align: middle;\n",
       "    }\n",
       "\n",
       "    .dataframe tbody tr th {\n",
       "        vertical-align: top;\n",
       "    }\n",
       "\n",
       "    .dataframe thead th {\n",
       "        text-align: right;\n",
       "    }\n",
       "</style>\n",
       "<table border=\"1\" class=\"dataframe\">\n",
       "  <thead>\n",
       "    <tr style=\"text-align: right;\">\n",
       "      <th></th>\n",
       "      <th>words_recalled</th>\n",
       "      <th>percentage_of_total</th>\n",
       "    </tr>\n",
       "  </thead>\n",
       "  <tbody>\n",
       "    <tr>\n",
       "      <th>0</th>\n",
       "      <td>6</td>\n",
       "      <td>0.166575</td>\n",
       "    </tr>\n",
       "    <tr>\n",
       "      <th>1</th>\n",
       "      <td>7</td>\n",
       "      <td>0.163008</td>\n",
       "    </tr>\n",
       "    <tr>\n",
       "      <th>2</th>\n",
       "      <td>5</td>\n",
       "      <td>0.142151</td>\n",
       "    </tr>\n",
       "    <tr>\n",
       "      <th>3</th>\n",
       "      <td>8</td>\n",
       "      <td>0.141603</td>\n",
       "    </tr>\n",
       "    <tr>\n",
       "      <th>4</th>\n",
       "      <td>9</td>\n",
       "      <td>0.100165</td>\n",
       "    </tr>\n",
       "    <tr>\n",
       "      <th>5</th>\n",
       "      <td>4</td>\n",
       "      <td>0.092481</td>\n",
       "    </tr>\n",
       "    <tr>\n",
       "      <th>6</th>\n",
       "      <td>10</td>\n",
       "      <td>0.074094</td>\n",
       "    </tr>\n",
       "    <tr>\n",
       "      <th>7</th>\n",
       "      <td>11</td>\n",
       "      <td>0.039517</td>\n",
       "    </tr>\n",
       "    <tr>\n",
       "      <th>8</th>\n",
       "      <td>3</td>\n",
       "      <td>0.037596</td>\n",
       "    </tr>\n",
       "    <tr>\n",
       "      <th>9</th>\n",
       "      <td>12</td>\n",
       "      <td>0.019210</td>\n",
       "    </tr>\n",
       "    <tr>\n",
       "      <th>10</th>\n",
       "      <td>2</td>\n",
       "      <td>0.009605</td>\n",
       "    </tr>\n",
       "    <tr>\n",
       "      <th>11</th>\n",
       "      <td>13</td>\n",
       "      <td>0.009056</td>\n",
       "    </tr>\n",
       "    <tr>\n",
       "      <th>12</th>\n",
       "      <td>14</td>\n",
       "      <td>0.002744</td>\n",
       "    </tr>\n",
       "    <tr>\n",
       "      <th>13</th>\n",
       "      <td>15</td>\n",
       "      <td>0.001372</td>\n",
       "    </tr>\n",
       "    <tr>\n",
       "      <th>14</th>\n",
       "      <td>1</td>\n",
       "      <td>0.000549</td>\n",
       "    </tr>\n",
       "    <tr>\n",
       "      <th>15</th>\n",
       "      <td>16</td>\n",
       "      <td>0.000274</td>\n",
       "    </tr>\n",
       "  </tbody>\n",
       "</table>\n",
       "</div>"
      ],
      "text/plain": [
       "    words_recalled  percentage_of_total\n",
       "0                6             0.166575\n",
       "1                7             0.163008\n",
       "2                5             0.142151\n",
       "3                8             0.141603\n",
       "4                9             0.100165\n",
       "5                4             0.092481\n",
       "6               10             0.074094\n",
       "7               11             0.039517\n",
       "8                3             0.037596\n",
       "9               12             0.019210\n",
       "10               2             0.009605\n",
       "11              13             0.009056\n",
       "12              14             0.002744\n",
       "13              15             0.001372\n",
       "14               1             0.000549\n",
       "15              16             0.000274"
      ]
     },
     "execution_count": 36,
     "metadata": {},
     "output_type": "execute_result"
    }
   ],
   "source": [
    "df_o_n = df_recall_power.wordsRecalled.value_counts(normalize=True).rename_axis('words_recalled').reset_index(name='percentage_of_total')\n",
    "df_o_n"
   ]
  },
  {
   "cell_type": "code",
   "execution_count": 38,
   "id": "3e5e888c",
   "metadata": {},
   "outputs": [
    {
     "data": {
      "image/png": "[encoded data removed]",
      "text/plain": [
       "<Figure size 720x576 with 1 Axes>"
      ]
     },
     "metadata": {
      "needs_background": "light"
     },
     "output_type": "display_data"
    }
   ],
   "source": [
    "plt.figure(figsize = (10, 8))\n",
    "\n",
    "plt.bar(df_o_n[\"words_recalled\"], \n",
    "        df_o_n[\"percentage_of_total\"],\n",
    "        width = 0.5)\n",
    " \n",
    "plt.xticks([i for i in range(1,17)])\n",
    "plt.title(\"Display of total recall (for old subjects)\")\n",
    "plt.xlabel(\"number of words recalled\")\n",
    "plt.ylabel(\"percentage of total trials\")\n",
    "plt.grid()\n",
    "plt.show()"
   ]
  },
  {
   "cell_type": "markdown",
   "id": "8d569de4",
   "metadata": {},
   "source": [
    "### task = age hypothesis on recall"
   ]
  },
  {
   "cell_type": "markdown",
   "id": "751a498f",
   "metadata": {},
   "source": [
    "### 9.88 and 6.97 words recalled on average"
   ]
  },
  {
   "cell_type": "code",
   "execution_count": 43,
   "id": "e9f4367b",
   "metadata": {},
   "outputs": [],
   "source": [
    "df_total_n = pd.merge(df_y_n, df_o_n, on=\"words_recalled\",suffixes=('_young', '_old'))\n",
    "df_total_n = df_total_n.sort_values(by=\"words_recalled\")"
   ]
  },
  {
   "cell_type": "code",
   "execution_count": 44,
   "id": "14038c3b",
   "metadata": {},
   "outputs": [
    {
     "data": {
      "text/html": [
       "<div>\n",
       "<style scoped>\n",
       "    .dataframe tbody tr th:only-of-type {\n",
       "        vertical-align: middle;\n",
       "    }\n",
       "\n",
       "    .dataframe tbody tr th {\n",
       "        vertical-align: top;\n",
       "    }\n",
       "\n",
       "    .dataframe thead th {\n",
       "        text-align: right;\n",
       "    }\n",
       "</style>\n",
       "<table border=\"1\" class=\"dataframe\">\n",
       "  <thead>\n",
       "    <tr style=\"text-align: right;\">\n",
       "      <th></th>\n",
       "      <th>words_recalled</th>\n",
       "      <th>percentage_of_total_young</th>\n",
       "      <th>percentage_of_total_old</th>\n",
       "    </tr>\n",
       "  </thead>\n",
       "  <tbody>\n",
       "    <tr>\n",
       "      <th>15</th>\n",
       "      <td>1</td>\n",
       "      <td>0.001500</td>\n",
       "      <td>0.000549</td>\n",
       "    </tr>\n",
       "    <tr>\n",
       "      <th>14</th>\n",
       "      <td>2</td>\n",
       "      <td>0.005596</td>\n",
       "      <td>0.009605</td>\n",
       "    </tr>\n",
       "    <tr>\n",
       "      <th>13</th>\n",
       "      <td>3</td>\n",
       "      <td>0.013210</td>\n",
       "      <td>0.037596</td>\n",
       "    </tr>\n",
       "    <tr>\n",
       "      <th>12</th>\n",
       "      <td>4</td>\n",
       "      <td>0.024517</td>\n",
       "      <td>0.092481</td>\n",
       "    </tr>\n",
       "    <tr>\n",
       "      <th>10</th>\n",
       "      <td>5</td>\n",
       "      <td>0.041823</td>\n",
       "      <td>0.142151</td>\n",
       "    </tr>\n",
       "    <tr>\n",
       "      <th>7</th>\n",
       "      <td>6</td>\n",
       "      <td>0.067609</td>\n",
       "      <td>0.166575</td>\n",
       "    </tr>\n",
       "    <tr>\n",
       "      <th>5</th>\n",
       "      <td>7</td>\n",
       "      <td>0.086415</td>\n",
       "      <td>0.163008</td>\n",
       "    </tr>\n",
       "    <tr>\n",
       "      <th>3</th>\n",
       "      <td>8</td>\n",
       "      <td>0.103086</td>\n",
       "      <td>0.141603</td>\n",
       "    </tr>\n",
       "    <tr>\n",
       "      <th>0</th>\n",
       "      <td>9</td>\n",
       "      <td>0.114970</td>\n",
       "      <td>0.100165</td>\n",
       "    </tr>\n",
       "    <tr>\n",
       "      <th>1</th>\n",
       "      <td>10</td>\n",
       "      <td>0.113758</td>\n",
       "      <td>0.074094</td>\n",
       "    </tr>\n",
       "    <tr>\n",
       "      <th>2</th>\n",
       "      <td>11</td>\n",
       "      <td>0.105509</td>\n",
       "      <td>0.039517</td>\n",
       "    </tr>\n",
       "    <tr>\n",
       "      <th>4</th>\n",
       "      <td>12</td>\n",
       "      <td>0.095702</td>\n",
       "      <td>0.019210</td>\n",
       "    </tr>\n",
       "    <tr>\n",
       "      <th>6</th>\n",
       "      <td>13</td>\n",
       "      <td>0.078166</td>\n",
       "      <td>0.009056</td>\n",
       "    </tr>\n",
       "    <tr>\n",
       "      <th>8</th>\n",
       "      <td>14</td>\n",
       "      <td>0.063455</td>\n",
       "      <td>0.002744</td>\n",
       "    </tr>\n",
       "    <tr>\n",
       "      <th>9</th>\n",
       "      <td>15</td>\n",
       "      <td>0.050534</td>\n",
       "      <td>0.001372</td>\n",
       "    </tr>\n",
       "    <tr>\n",
       "      <th>11</th>\n",
       "      <td>16</td>\n",
       "      <td>0.034151</td>\n",
       "      <td>0.000274</td>\n",
       "    </tr>\n",
       "  </tbody>\n",
       "</table>\n",
       "</div>"
      ],
      "text/plain": [
       "    words_recalled  percentage_of_total_young  percentage_of_total_old\n",
       "15               1                   0.001500                 0.000549\n",
       "14               2                   0.005596                 0.009605\n",
       "13               3                   0.013210                 0.037596\n",
       "12               4                   0.024517                 0.092481\n",
       "10               5                   0.041823                 0.142151\n",
       "7                6                   0.067609                 0.166575\n",
       "5                7                   0.086415                 0.163008\n",
       "3                8                   0.103086                 0.141603\n",
       "0                9                   0.114970                 0.100165\n",
       "1               10                   0.113758                 0.074094\n",
       "2               11                   0.105509                 0.039517\n",
       "4               12                   0.095702                 0.019210\n",
       "6               13                   0.078166                 0.009056\n",
       "8               14                   0.063455                 0.002744\n",
       "9               15                   0.050534                 0.001372\n",
       "11              16                   0.034151                 0.000274"
      ]
     },
     "execution_count": 44,
     "metadata": {},
     "output_type": "execute_result"
    }
   ],
   "source": [
    "df_total_n"
   ]
  },
  {
   "cell_type": "code",
   "execution_count": 54,
   "id": "b21a7e41",
   "metadata": {},
   "outputs": [
    {
     "data": {
      "text/plain": [
       "<Figure size 720x576 with 0 Axes>"
      ]
     },
     "metadata": {},
     "output_type": "display_data"
    },
    {
     "data": {
      "image/png": "[encoded data removed]",
      "text/plain": [
       "<Figure size 432x288 with 1 Axes>"
      ]
     },
     "metadata": {
      "needs_background": "light"
     },
     "output_type": "display_data"
    }
   ],
   "source": [
    "plt.figure(figsize = (10, 8))\n",
    "\n",
    "labels = df_total_n[\"words_recalled\"]\n",
    "young_s = df_total_n[\"percentage_of_total_young\"]\n",
    "old_s = df_total_n[\"percentage_of_total_old\"]\n",
    "\n",
    "# x = np.arange(len(labels))  # the label locations\n",
    "width = 0.4  # the width of the bars\n",
    "\n",
    "fig, ax = plt.subplots()\n",
    "rects1 = ax.bar(x - width/2, young_s, width, label='young subjects')\n",
    "rects2 = ax.bar(x + width/2, old_s, width, label='old subjects')\n",
    "\n",
    "\n",
    "ax.set_ylabel(\"percentage of total trials\")\n",
    "ax.set_xlabel(\"number of words recalled\")\n",
    "ax.set_title(\"Display of total recall (comparing young and old subjects)\")\n",
    "# ax.set_xticks(x, labels)\n",
    "ax.legend()\n",
    "\n",
    "# ax.bar_label(rects1, padding=3)\n",
    "# ax.bar_label(rects2, padding=3)\n",
    "\n",
    "fig.tight_layout()\n",
    "plt.grid()\n",
    "plt.show()\n",
    "\n"
   ]
  },
  {
   "cell_type": "code",
   "execution_count": null,
   "id": "3e5f27ed",
   "metadata": {},
   "outputs": [],
   "source": []
  },
  {
   "cell_type": "code",
   "execution_count": null,
   "id": "b68d4fb7",
   "metadata": {},
   "outputs": [],
   "source": []
  },
  {
   "cell_type": "code",
   "execution_count": null,
   "id": "e17709c0",
   "metadata": {},
   "outputs": [],
   "source": []
  },
  {
   "cell_type": "code",
   "execution_count": null,
   "id": "ab0d0b3b",
   "metadata": {},
   "outputs": [],
   "source": []
  },
  {
   "cell_type": "code",
   "execution_count": null,
   "id": "7b2606fb",
   "metadata": {},
   "outputs": [],
   "source": []
  },
  {
   "cell_type": "code",
   "execution_count": null,
   "id": "da5b7cc8",
   "metadata": {},
   "outputs": [],
   "source": []
  },
  {
   "cell_type": "code",
   "execution_count": 100,
   "id": "c26cca3d",
   "metadata": {},
   "outputs": [
    {
     "data": {
      "text/plain": [
       "17335"
      ]
     },
     "execution_count": 100,
     "metadata": {},
     "output_type": "execute_result"
    }
   ],
   "source": [
    "with open('young_subjects_full_study_json_list_march23.json', \"r\") as read_file:\n",
    "    data_json_list = json.load(read_file)\n",
    "    \n",
    "len(data_json_list)"
   ]
  },
  {
   "cell_type": "code",
   "execution_count": 94,
   "id": "a954c455",
   "metadata": {},
   "outputs": [
    {
     "data": {
      "text/plain": [
       "17335"
      ]
     },
     "execution_count": 94,
     "metadata": {},
     "output_type": "execute_result"
    }
   ],
   "source": []
  },
  {
   "cell_type": "markdown",
   "id": "88c71c0f",
   "metadata": {},
   "source": [
    "### task = creating recall index counters\n",
    "### 16 and 0 in recall are both 0"
   ]
  },
  {
   "cell_type": "code",
   "execution_count": 95,
   "id": "80a51e6c",
   "metadata": {},
   "outputs": [],
   "source": [
    "recall_counter = [0]*16\n",
    "\n",
    "for r in data_json_list:\n",
    "    ### ignoring external words and duplicates\n",
    "    recall_indices = list(set(r[\"serialPositions_recallPhase\"]))\n",
    "    for i in recall_indices:\n",
    "        if i>=0:\n",
    "            if i==0 or i==16:\n",
    "                recall_counter[0]+=1\n",
    "            else:\n",
    "                recall_counter[i]+=1"
   ]
  },
  {
   "cell_type": "code",
   "execution_count": 96,
   "id": "ef50a1cf",
   "metadata": {},
   "outputs": [
    {
     "data": {
      "text/plain": [
       "[12159,\n",
       " 11241,\n",
       " 10535,\n",
       " 10147,\n",
       " 9813,\n",
       " 9447,\n",
       " 9224,\n",
       " 9081,\n",
       " 8936,\n",
       " 9130,\n",
       " 9376,\n",
       " 9528,\n",
       " 10506,\n",
       " 11669,\n",
       " 14193,\n",
       " 16382]"
      ]
     },
     "execution_count": 96,
     "metadata": {},
     "output_type": "execute_result"
    }
   ],
   "source": [
    "recall_counter"
   ]
  },
  {
   "cell_type": "code",
   "execution_count": null,
   "id": "2f880120",
   "metadata": {},
   "outputs": [],
   "source": []
  },
  {
   "cell_type": "code",
   "execution_count": 97,
   "id": "031ef361",
   "metadata": {},
   "outputs": [],
   "source": [
    "total_trials = len(data_json_list)\n",
    "\n",
    "recall_counter = [i/total_trials for i in recall_counter]"
   ]
  },
  {
   "cell_type": "code",
   "execution_count": 98,
   "id": "4aa8e7a6",
   "metadata": {},
   "outputs": [
    {
     "name": "stdout",
     "output_type": "stream",
     "text": [
      "[0.7014133256417652, 0.648456879146236, 0.6077300259590424, 0.5853475627343525, 0.5660801845976349, 0.5449668301124891, 0.5321026824343813, 0.5238534756273435, 0.515488895298529, 0.526680126910874, 0.5408710700894145, 0.5496394577444477, 0.6060571098932795, 0.6731468128064609, 0.8187481972887223, 0.9450245168733775]\n"
     ]
    }
   ],
   "source": [
    "print(recall_counter)"
   ]
  },
  {
   "cell_type": "code",
   "execution_count": 99,
   "id": "f56ae9ce",
   "metadata": {},
   "outputs": [
    {
     "data": {
      "image/png": "[encoded data removed]",
      "text/plain": [
       "<Figure size 720x576 with 1 Axes>"
      ]
     },
     "metadata": {
      "needs_background": "light"
     },
     "output_type": "display_data"
    }
   ],
   "source": [
    "word_index = [i for i in range(1,17)]\n",
    "recall_rate = recall_counter\n",
    "\n",
    "  \n",
    "fig, ax = plt.subplots(figsize=(10,8))\n",
    "plt.plot(word_index, recall_rate, marker = 'o')\n",
    "plt.xticks([i for i in range(1,17)])\n",
    "plt.yticks([i/10 for i in range(5,11)])\n",
    "plt.title(\"Display of recall rate as a function of word's position (for young subjects)\")\n",
    "plt.xlabel(\"word's position in study phase\")\n",
    "plt.ylabel(\"recall rate\")\n",
    "\n",
    "for index in range(len(word_index)):\n",
    "    ax.text(word_index[index]-0.1, recall_rate[index]+0.01, round(recall_rate[index],3), size=10)\n",
    "plt.grid()\n",
    "plt.show() "
   ]
  },
  {
   "cell_type": "code",
   "execution_count": null,
   "id": "f5406b10",
   "metadata": {},
   "outputs": [],
   "source": []
  },
  {
   "cell_type": "markdown",
   "id": "cb498856",
   "metadata": {},
   "source": [
    "### task = creating recall index counters - for probability of first recall\n"
   ]
  },
  {
   "cell_type": "code",
   "execution_count": 81,
   "id": "adbeaf4e",
   "metadata": {},
   "outputs": [],
   "source": [
    "first_recall_counter = [0]*16\n",
    "\n",
    "for r in data_json_list:\n",
    "    ### consider the list as it is - without conditioning\n",
    "    recall_indices = r[\"serialPositions_recallPhase\"]\n",
    "#     print(recall_indices)\n",
    "    for i in recall_indices:\n",
    "        ### ignoring external words\n",
    "        if i>=0:\n",
    "            if i==0 or i==16:\n",
    "                first_recall_counter[0]+=1\n",
    "            else:\n",
    "                first_recall_counter[i]+=1\n",
    "            break"
   ]
  },
  {
   "cell_type": "code",
   "execution_count": 82,
   "id": "92a5be4c",
   "metadata": {},
   "outputs": [
    {
     "data": {
      "text/plain": [
       "[987,\n",
       " 170,\n",
       " 105,\n",
       " 101,\n",
       " 91,\n",
       " 90,\n",
       " 92,\n",
       " 106,\n",
       " 144,\n",
       " 215,\n",
       " 373,\n",
       " 541,\n",
       " 1039,\n",
       " 1395,\n",
       " 3203,\n",
       " 8683]"
      ]
     },
     "execution_count": 82,
     "metadata": {},
     "output_type": "execute_result"
    }
   ],
   "source": [
    "first_recall_counter"
   ]
  },
  {
   "cell_type": "code",
   "execution_count": 83,
   "id": "e8a95615",
   "metadata": {},
   "outputs": [],
   "source": [
    "total_trials = len(data_json_list)\n",
    "\n",
    "first_recall_counter = [i/total_trials for i in first_recall_counter]"
   ]
  },
  {
   "cell_type": "code",
   "execution_count": 84,
   "id": "d958b8b4",
   "metadata": {},
   "outputs": [
    {
     "name": "stdout",
     "output_type": "stream",
     "text": [
      "[0.05693683299682723, 0.00980674935102394, 0.006057109893279493, 0.005826362849725988, 0.005249495240842227, 0.005191808479953851, 0.005307182001730603, 0.006114796654167869, 0.00830689356792616, 0.012402653591000866, 0.02151716181136429, 0.03120853764061148, 0.05993654456302279, 0.08047303143928468, 0.1847706951254687, 0.5008941447937698]\n"
     ]
    }
   ],
   "source": [
    "print(first_recall_counter)"
   ]
  },
  {
   "cell_type": "code",
   "execution_count": 92,
   "id": "ed9e358f",
   "metadata": {},
   "outputs": [
    {
     "data": {
      "image/png": "[encoded data removed]",
      "text/plain": [
       "<Figure size 720x576 with 1 Axes>"
      ]
     },
     "metadata": {
      "needs_background": "light"
     },
     "output_type": "display_data"
    }
   ],
   "source": [
    "word_index = [i for i in range(1,17)]\n",
    "recall_rate = first_recall_counter\n",
    "  \n",
    "fig, ax = plt.subplots(figsize=(10,8))\n",
    "plt.plot(word_index, recall_rate, marker = 'o')\n",
    "plt.xticks([i for i in range(1,17)])\n",
    "plt.yticks([i/10 for i in range(0,7)])\n",
    "plt.title(\"Display of first recall rate as a function of word's position (for young subjects)\")\n",
    "plt.xlabel(\"word's position in study phase\")\n",
    "plt.ylabel(\"first recall rate\")\n",
    "\n",
    "for index in range(len(word_index)):\n",
    "    ax.text(word_index[index]-0.1, recall_rate[index]+0.01, round(recall_rate[index],3), size=10)\n",
    "plt.grid()\n",
    "plt.show()    \n",
    "    \n"
   ]
  },
  {
   "cell_type": "code",
   "execution_count": null,
   "id": "021956ef",
   "metadata": {},
   "outputs": [],
   "source": []
  },
  {
   "cell_type": "code",
   "execution_count": null,
   "id": "a673900b",
   "metadata": {},
   "outputs": [],
   "source": []
  },
  {
   "cell_type": "code",
   "execution_count": null,
   "id": "f704f3e4",
   "metadata": {},
   "outputs": [],
   "source": []
  },
  {
   "cell_type": "code",
   "execution_count": null,
   "id": "209c4bb0",
   "metadata": {},
   "outputs": [],
   "source": []
  },
  {
   "cell_type": "code",
   "execution_count": null,
   "id": "b2ebbb21",
   "metadata": {},
   "outputs": [],
   "source": []
  },
  {
   "cell_type": "code",
   "execution_count": null,
   "id": "730afded",
   "metadata": {},
   "outputs": [],
   "source": []
  },
  {
   "cell_type": "code",
   "execution_count": 3,
   "id": "9c8f6582",
   "metadata": {},
   "outputs": [
    {
     "data": {
      "text/plain": [
       "17335"
      ]
     },
     "execution_count": 3,
     "metadata": {},
     "output_type": "execute_result"
    }
   ],
   "source": [
    "with open('young_subjects_full_study_json_list_march23.json', \"r\") as read_file:\n",
    "    data_json_list = json.load(read_file)\n",
    "    \n",
    "len(data_json_list)"
   ]
  },
  {
   "cell_type": "code",
   "execution_count": 5,
   "id": "95874bac",
   "metadata": {},
   "outputs": [],
   "source": [
    "all_recalls_subj_id = []\n",
    "\n",
    "\n",
    "for i in data_json_list:\n",
    "    if len(i)>0:\n",
    "        ### fixing 16,0 problem\n",
    "        current_recall = i[\"serialPositions_recallPhase\"]\n",
    "        if -1 in current_recall:\n",
    "            all_recalls_subj_id.append(i[\"subjectIndex\"])\n",
    "        "
   ]
  },
  {
   "cell_type": "code",
   "execution_count": 6,
   "id": "e70b4c4d",
   "metadata": {},
   "outputs": [
    {
     "data": {
      "text/plain": [
       "5074"
      ]
     },
     "execution_count": 6,
     "metadata": {},
     "output_type": "execute_result"
    }
   ],
   "source": [
    "len(all_recalls_subj_id)"
   ]
  },
  {
   "cell_type": "code",
   "execution_count": 8,
   "id": "51c2e002",
   "metadata": {},
   "outputs": [
    {
     "data": {
      "text/plain": [
       "0.29270262474762043"
      ]
     },
     "execution_count": 8,
     "metadata": {},
     "output_type": "execute_result"
    }
   ],
   "source": [
    "5074/17335"
   ]
  },
  {
   "cell_type": "code",
   "execution_count": 7,
   "id": "05a0a6e8",
   "metadata": {},
   "outputs": [
    {
     "data": {
      "text/plain": [
       "186"
      ]
     },
     "execution_count": 7,
     "metadata": {},
     "output_type": "execute_result"
    }
   ],
   "source": [
    "len(set(all_recalls_subj_id))"
   ]
  },
  {
   "cell_type": "markdown",
   "id": "8f9f3c6c",
   "metadata": {},
   "source": [
    "### task = looking at CRP and lag\n"
   ]
  },
  {
   "cell_type": "code",
   "execution_count": 101,
   "id": "3cb74607",
   "metadata": {},
   "outputs": [
    {
     "data": {
      "text/plain": [
       "17335"
      ]
     },
     "execution_count": 101,
     "metadata": {},
     "output_type": "execute_result"
    }
   ],
   "source": [
    "with open('young_subjects_full_study_json_list_march23.json', \"r\") as read_file:\n",
    "    data_json_list = json.load(read_file)\n",
    "    \n",
    "len(data_json_list)"
   ]
  },
  {
   "cell_type": "code",
   "execution_count": 120,
   "id": "a1754137",
   "metadata": {},
   "outputs": [],
   "source": [
    "all_recalls = []\n",
    "\n",
    "\n",
    "for i in data_json_list:\n",
    "    if len(i)>0:\n",
    "        ### fixing 16,0 problem\n",
    "        current_recall = i[\"serialPositions_recallPhase\"]\n",
    "        current_recall = [x if x!=16 else 0 for x in current_recall]\n",
    "        all_recalls.append(current_recall)"
   ]
  },
  {
   "cell_type": "code",
   "execution_count": 121,
   "id": "2aab6c22",
   "metadata": {},
   "outputs": [
    {
     "data": {
      "text/plain": [
       "17335"
      ]
     },
     "execution_count": 121,
     "metadata": {},
     "output_type": "execute_result"
    }
   ],
   "source": [
    "len(all_recalls)"
   ]
  },
  {
   "cell_type": "code",
   "execution_count": null,
   "id": "72831e60",
   "metadata": {},
   "outputs": [],
   "source": []
  },
  {
   "cell_type": "code",
   "execution_count": 122,
   "id": "92085571",
   "metadata": {},
   "outputs": [
    {
     "data": {
      "text/plain": [
       "[[15, 13, 6, 1, 2, 0, 9],\n",
       " [15, 13, 12, 1],\n",
       " [14, 15, 2, 5, 6, 1, 9, 4],\n",
       " [10, 13, 12, 15, 1, 0],\n",
       " [3, 11, 15, 14, 7, 6, 5, 12, 9, 13]]"
      ]
     },
     "execution_count": 122,
     "metadata": {},
     "output_type": "execute_result"
    }
   ],
   "source": [
    "all_recalls[:5]"
   ]
  },
  {
   "cell_type": "code",
   "execution_count": 124,
   "id": "54c30961",
   "metadata": {},
   "outputs": [],
   "source": [
    "### https://memory.psych.upenn.edu/CRP_Tutorial\n",
    "\n",
    "\n",
    "recalls_sp = all_recalls\n",
    "lag_examine = 15\n",
    "list_length = 16\n",
    "possible_counts = np.zeros(2*lag_examine+1)\n",
    "actual_counts = np.zeros(2*lag_examine+1)\n",
    "\n",
    "\n",
    "for i in range(len(recalls_sp)):\n",
    "    recallornot = np.zeros(list_length)\n",
    "    for j in range(len(recalls_sp[i]))[:-1]:\n",
    "        ### for [15, 13, 6, 1, 2, 0] , sp1=15 and sp2=13\n",
    "        sp1 = recalls_sp[i][j]\n",
    "        sp2 = recalls_sp[i][j+1]\n",
    "        if 0 <= sp1 <100:\n",
    "            recallornot[sp1] = 1\n",
    "            if 0 <= sp2 <100:\n",
    "                lag = sp2 - sp1\n",
    "                if np.abs(lag) <= lag_examine:\n",
    "                    actual_counts[lag+lag_examine] += 1\n",
    "                for k,item in enumerate(recallornot):    \n",
    "                    if item==0:\n",
    "                        lag = k - sp1\n",
    "                        if np.abs(lag) <= lag_examine:\n",
    "                            possible_counts[lag+lag_examine] += 1                   \n",
    "crp = [(actual_counts[i]+1)/(possible_counts[i]+1) for i in range(len(actual_counts))]\n",
    "crp[lag_examine] = 0\n"
   ]
  },
  {
   "cell_type": "code",
   "execution_count": 125,
   "id": "0589945c",
   "metadata": {},
   "outputs": [
    {
     "data": {
      "text/plain": [
       "[0.08095645873130887,\n",
       " 0.04732599150651407,\n",
       " 0.043987555796023266,\n",
       " 0.042468272119826,\n",
       " 0.04220129487934079,\n",
       " 0.04376944576280124,\n",
       " 0.04456650546071806,\n",
       " 0.04765836970626401,\n",
       " 0.05059695347879786,\n",
       " 0.053991451460162265,\n",
       " 0.056882520525550255,\n",
       " 0.06362419760927257,\n",
       " 0.07949139441970847,\n",
       " 0.10388274348015145,\n",
       " 0.24522218639865698,\n",
       " 0,\n",
       " 0.40783635961260817,\n",
       " 0.12110331908352946,\n",
       " 0.0928075489906978,\n",
       " 0.07549399428597071,\n",
       " 0.0679794264027831,\n",
       " 0.06593610698365528,\n",
       " 0.06073647967752771,\n",
       " 0.05586836229492282,\n",
       " 0.05452674897119342,\n",
       " 0.053879686137750654,\n",
       " 0.051816503849097376,\n",
       " 0.05554146588891707,\n",
       " 0.06073558648111332,\n",
       " 0.08054929288788686,\n",
       " 0.11722488038277512]"
      ]
     },
     "execution_count": 125,
     "metadata": {},
     "output_type": "execute_result"
    }
   ],
   "source": [
    "crp"
   ]
  },
  {
   "cell_type": "code",
   "execution_count": 126,
   "id": "ea150f72",
   "metadata": {},
   "outputs": [
    {
     "data": {
      "text/plain": [
       "31"
      ]
     },
     "execution_count": 126,
     "metadata": {},
     "output_type": "execute_result"
    }
   ],
   "source": [
    "len(crp)"
   ]
  },
  {
   "cell_type": "code",
   "execution_count": 137,
   "id": "15fb4981",
   "metadata": {},
   "outputs": [
    {
     "data": {
      "image/png": "[encoded data removed]",
      "text/plain": [
       "<Figure size 1440x576 with 1 Axes>"
      ]
     },
     "metadata": {
      "needs_background": "light"
     },
     "output_type": "display_data"
    }
   ],
   "source": [
    "word_index = [i for i in range(-15,16)]\n",
    "recall_rate = crp\n",
    "\n",
    "  \n",
    "fig, ax = plt.subplots(figsize=(20,8))\n",
    "plt.plot(word_index, recall_rate, marker = 'o')\n",
    "plt.xticks(word_index)\n",
    "plt.yticks([i/10 for i in range(0,6)])\n",
    "plt.title(\"Display of conditional response probability as a function of lag (for young subjects)\")\n",
    "plt.xlabel(\"lag\")\n",
    "plt.ylabel(\"CRP\")\n",
    "\n",
    "for index in range(len(word_index)):\n",
    "    ax.text(word_index[index]-0.2, recall_rate[index]+0.01, round(recall_rate[index],3), size=10)\n",
    "plt.grid()\n",
    "plt.show() "
   ]
  },
  {
   "cell_type": "code",
   "execution_count": null,
   "id": "1ae23e7a",
   "metadata": {},
   "outputs": [],
   "source": []
  },
  {
   "cell_type": "code",
   "execution_count": null,
   "id": "505325b6",
   "metadata": {},
   "outputs": [],
   "source": []
  },
  {
   "cell_type": "code",
   "execution_count": null,
   "id": "f9e93148",
   "metadata": {},
   "outputs": [],
   "source": []
  },
  {
   "cell_type": "code",
   "execution_count": null,
   "id": "43d73d0a",
   "metadata": {},
   "outputs": [],
   "source": []
  }
 ],
 "metadata": {
  "kernelspec": {
   "display_name": "Python 3 (ipykernel)",
   "language": "python",
   "name": "python3"
  },
  "language_info": {
   "codemirror_mode": {
    "name": "ipython",
    "version": 3
   },
   "file_extension": ".py",
   "mimetype": "text/x-python",
   "name": "python",
   "nbconvert_exporter": "python",
   "pygments_lexer": "ipython3",
   "version": "3.9.7"
  }
 },
 "nbformat": 4,
 "nbformat_minor": 5
}
